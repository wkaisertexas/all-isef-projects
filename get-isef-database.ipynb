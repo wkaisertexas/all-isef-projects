{
 "cells": [
  {
   "cell_type": "code",
   "execution_count": 1,
   "id": "882fd365",
   "metadata": {
    "_cell_guid": "b1076dfc-b9ad-4769-8c92-a6c4dae69d19",
    "_uuid": "8f2839f25d086af736a60e9eeb907d3b93b6e0e5",
    "execution": {
     "iopub.execute_input": "2022-03-18T06:28:19.925648Z",
     "iopub.status.busy": "2022-03-18T06:28:19.924977Z",
     "iopub.status.idle": "2022-03-18T06:28:20.241836Z",
     "shell.execute_reply": "2022-03-18T06:28:20.242377Z",
     "shell.execute_reply.started": "2022-03-18T06:27:09.519947Z"
    },
    "papermill": {
     "duration": 0.337167,
     "end_time": "2022-03-18T06:28:20.242689",
     "exception": false,
     "start_time": "2022-03-18T06:28:19.905522",
     "status": "completed"
    },
    "tags": []
   },
   "outputs": [],
   "source": [
    "import numpy as np # linear algebra\n",
    "import pandas as pd # data processing, CSV file I/O (e.g. pd.read_csv)\n",
    "import re\n",
    "from bs4 import BeautifulSoup\n",
    "import requests\n",
    "from tqdm import tqdm \n",
    "tqdm.pandas()"
   ]
  },
  {
   "cell_type": "code",
   "execution_count": 2,
   "id": "061cd449",
   "metadata": {
    "execution": {
     "iopub.execute_input": "2022-03-18T06:28:20.508665Z",
     "iopub.status.busy": "2022-03-18T06:28:20.507901Z",
     "iopub.status.idle": "2022-03-18T06:28:30.398032Z",
     "shell.execute_reply": "2022-03-18T06:28:30.398703Z",
     "shell.execute_reply.started": "2022-03-18T06:27:09.526852Z"
    },
    "papermill": {
     "duration": 10.146885,
     "end_time": "2022-03-18T06:28:30.398926",
     "exception": false,
     "start_time": "2022-03-18T06:28:20.252041",
     "status": "completed"
    },
    "tags": []
   },
   "outputs": [
    {
     "name": "stdout",
     "output_type": "stream",
     "text": [
      "  % Total    % Received % Xferd  Average Speed   Time    Time     Time  Current\r\n",
      "                                 Dload  Upload   Total   Spent    Left  Speed\r\n",
      "100 1428k    0 1427k  100   791   160k     89  0:00:08  0:00:08 --:--:--  352k\r\n",
      "There are 10828 projects\n"
     ]
    }
   ],
   "source": [
    "# Gets All Project into a Dataframe\n",
    "! curl -o 'projects.html' --compressed 'https://abstracts.societyforscience.org/?__RequestVerificationToken=dTTGLynT6dfCfKf_cMfe6fWg-9eSye5BQbvXYfXKT2CvYzRVwFMKfvLsRk4djP1BEwA92M2XIgD_mIgaPTZrNIFrM7Fk_XMkwHO7xEWnqVM1&KeywordOrPhrase=&FinalistLastName=&Category=Any%20Category&FairCountry=Any%20Country&FairState=Any%20State&ISEFYear[0].ID=2021&ISEFYear[0].IsChecked=false&ISEFYear[1].ID=2020&ISEFYear[1].IsChecked=false&ISEFYear[2].ID=2019&ISEFYear[2].IsChecked=false&ISEFYear[3].ID=2018&ISEFYear[3].IsChecked=false&ISEFYear[4].ID=2017&ISEFYear[4].IsChecked=false&ISEFYear[5].ID=2016&ISEFYear[5].IsChecked=false&ISEFYear[6].ID=2015&ISEFYear[6].IsChecked=false&ISEFYear[7].ID=2014&ISEFYear[7].IsChecked=false&ISEFYear[8].ID=0&ISEFYear[8].IsChecked=true&ISEFYear[8].IsChecked=false&IsGetAllAbstracts=True' --globoff -X POST -H 'User-Agent: Mozilla/5.0 (X11; Ubuntu; Linux x86_64; rv:98.0) Gecko/20100101 Firefox/98.0' -H 'Accept: text/html,application/xhtml+xml,application/xml;q=0.9,image/avif,image/webp,*/*;q=0.8' -H 'Accept-Language: en-US,en;q=0.5' -H 'Accept-Encoding: gzip, deflate, br' -H 'Content-Type: application/x-www-form-urlencoded' -H 'Origin: https://abstracts.societyforscience.org' -H 'Connection: keep-alive' -H 'Referer: https://abstracts.societyforscience.org/?__RequestVerificationToken=dTTGLynT6dfCfKf_cMfe6fWg-9eSye5BQbvXYfXKT2CvYzRVwFMKfvLsRk4djP1BEwA92M2XIgD_mIgaPTZrNIFrM7Fk_XMkwHO7xEWnqVM1&KeywordOrPhrase=&FinalistLastName=&Category=Any%20Category&FairCountry=Any%20Country&FairState=Any%20State&ISEFYear[0].ID=2021&ISEFYear[0].IsChecked=false&ISEFYear[1].ID=2020&ISEFYear[1].IsChecked=false&ISEFYear[2].ID=2019&ISEFYear[2].IsChecked=false&ISEFYear[3].ID=2018&ISEFYear[3].IsChecked=false&ISEFYear[4].ID=2017&ISEFYear[4].IsChecked=false&ISEFYear[5].ID=2016&ISEFYear[5].IsChecked=false&ISEFYear[6].ID=2015&ISEFYear[6].IsChecked=false&ISEFYear[7].ID=2014&ISEFYear[7].IsChecked=false&ISEFYear[8].ID=0&ISEFYear[8].IsChecked=true&ISEFYear[8].IsChecked=false&IsGetAllAbstracts=True' -H 'Cookie: __RequestVerificationToken=D6iA1DR1LTp-M__B6DgqkgE0Fb5EATRFunk2DJaUIQLC_Gu-nXIymJHPbGoM1z6lizs8MZZvek8T-pd6pR0XtD8LBgn7D0OnQpmsMChGsZI1; ARRAffinity=f6cd621af62d07651208efd53149b8655115e06af8bad354e81f8c9c3ec73832; ARRAffinitySameSite=f6cd621af62d07651208efd53149b8655115e06af8bad354e81f8c9c3ec73832' -H 'Upgrade-Insecure-Requests: 1' -H 'Sec-Fetch-Dest: document' -H 'Sec-Fetch-Mode: navigate' -H 'Sec-Fetch-Site: same-origin' -H 'Sec-Fetch-User: ?1' --data-raw '__RequestVerificationToken=Zus64XOaGb1z-xWyPIje3K1erw2Z8egLcpxrPGqFPBjwDp9vKivLAcnyOlINwjsXFt5znOjeLS0PnklDgyYUsEbjToKkV79XMcTw9BYB7ws1&KeywordOrPhrase=&FinalistLastName=&Category=Any+Category&FairCountry=Any+Country&FairState=Any+State&ISEFYear%5B0%5D.ID=2021&ISEFYear%5B0%5D.IsChecked=false&ISEFYear%5B1%5D.ID=2020&ISEFYear%5B1%5D.IsChecked=false&ISEFYear%5B2%5D.ID=2019&ISEFYear%5B2%5D.IsChecked=false&ISEFYear%5B3%5D.ID=2018&ISEFYear%5B3%5D.IsChecked=false&ISEFYear%5B4%5D.ID=2017&ISEFYear%5B4%5D.IsChecked=false&ISEFYear%5B5%5D.ID=2016&ISEFYear%5B5%5D.IsChecked=false&ISEFYear%5B6%5D.ID=2015&ISEFYear%5B6%5D.IsChecked=false&ISEFYear%5B7%5D.ID=2014&ISEFYear%5B7%5D.IsChecked=false&ISEFYear%5B8%5D.ID=0&ISEFYear%5B8%5D.IsChecked=true&ISEFYear%5B8%5D.IsChecked=false&IsGetAllAbstracts=True'\n",
    "\n",
    "with open('projects.html') as f:\n",
    "    html = f.read()\n",
    "    ids = re.findall(\"ProjectId=[0-9]+\", html)\n",
    "    ids = pd.Series(ids)\n",
    "\n",
    "print(f\"There are {len(ids)} projects\")"
   ]
  },
  {
   "cell_type": "code",
   "execution_count": 3,
   "id": "a5af36e6",
   "metadata": {
    "execution": {
     "iopub.execute_input": "2022-03-18T06:28:30.434577Z",
     "iopub.status.busy": "2022-03-18T06:28:30.433828Z",
     "iopub.status.idle": "2022-03-18T06:28:33.198045Z",
     "shell.execute_reply": "2022-03-18T06:28:33.198555Z",
     "shell.execute_reply.started": "2022-03-18T06:27:17.821492Z"
    },
    "papermill": {
     "duration": 2.784527,
     "end_time": "2022-03-18T06:28:33.198723",
     "exception": false,
     "start_time": "2022-03-18T06:28:30.414196",
     "status": "completed"
    },
    "tags": []
   },
   "outputs": [
    {
     "data": {
      "text/html": [
       "<div>\n",
       "<style scoped>\n",
       "    .dataframe tbody tr th:only-of-type {\n",
       "        vertical-align: middle;\n",
       "    }\n",
       "\n",
       "    .dataframe tbody tr th {\n",
       "        vertical-align: top;\n",
       "    }\n",
       "\n",
       "    .dataframe thead th {\n",
       "        text-align: right;\n",
       "    }\n",
       "</style>\n",
       "<table border=\"1\" class=\"dataframe\">\n",
       "  <thead>\n",
       "    <tr style=\"text-align: right;\">\n",
       "      <th></th>\n",
       "      <th>Project Title</th>\n",
       "      <th>Fair Country</th>\n",
       "      <th>Fair State</th>\n",
       "      <th>Fair Province</th>\n",
       "      <th>Awards Won</th>\n",
       "    </tr>\n",
       "  </thead>\n",
       "  <tbody>\n",
       "    <tr>\n",
       "      <th>0</th>\n",
       "      <td>Dynamic Response of a Human Neck Replica to Ax...</td>\n",
       "      <td>United States of America</td>\n",
       "      <td>MN</td>\n",
       "      <td>NaN</td>\n",
       "      <td>NaN</td>\n",
       "    </tr>\n",
       "    <tr>\n",
       "      <th>1</th>\n",
       "      <td>The Effect of Nutrient Solution Concentration ...</td>\n",
       "      <td>United States of America</td>\n",
       "      <td>UT</td>\n",
       "      <td>NaN</td>\n",
       "      <td>NaN</td>\n",
       "    </tr>\n",
       "    <tr>\n",
       "      <th>2</th>\n",
       "      <td>Do Air Root Pruning Pots Accelerate Success in...</td>\n",
       "      <td>United States of America</td>\n",
       "      <td>LA</td>\n",
       "      <td>NaN</td>\n",
       "      <td>NaN</td>\n",
       "    </tr>\n",
       "    <tr>\n",
       "      <th>3</th>\n",
       "      <td>Insect-repelling Plants &amp; New Organic Pesticide</td>\n",
       "      <td>United States of America</td>\n",
       "      <td>TX</td>\n",
       "      <td>NaN</td>\n",
       "      <td>NaN</td>\n",
       "    </tr>\n",
       "    <tr>\n",
       "      <th>4</th>\n",
       "      <td>How Do Different Factors Affect the Accuracy o...</td>\n",
       "      <td>United States of America</td>\n",
       "      <td>MN</td>\n",
       "      <td>NaN</td>\n",
       "      <td>NaN</td>\n",
       "    </tr>\n",
       "  </tbody>\n",
       "</table>\n",
       "</div>"
      ],
      "text/plain": [
       "                                       Project Title  \\\n",
       "0  Dynamic Response of a Human Neck Replica to Ax...   \n",
       "1  The Effect of Nutrient Solution Concentration ...   \n",
       "2  Do Air Root Pruning Pots Accelerate Success in...   \n",
       "3    Insect-repelling Plants & New Organic Pesticide   \n",
       "4  How Do Different Factors Affect the Accuracy o...   \n",
       "\n",
       "               Fair Country Fair State Fair Province Awards Won  \n",
       "0  United States of America         MN           NaN        NaN  \n",
       "1  United States of America         UT           NaN        NaN  \n",
       "2  United States of America         LA           NaN        NaN  \n",
       "3  United States of America         TX           NaN        NaN  \n",
       "4  United States of America         MN           NaN        NaN  "
      ]
     },
     "execution_count": 3,
     "metadata": {},
     "output_type": "execute_result"
    }
   ],
   "source": [
    "awards = pd.read_html('projects.html')[0]\n",
    "\n",
    "awards.drop(['Year', 'Finalist Name(s)', 'Category'], axis=1, inplace=True)\n",
    "awards.head()"
   ]
  },
  {
   "cell_type": "code",
   "execution_count": 4,
   "id": "48cdd8b1",
   "metadata": {
    "execution": {
     "iopub.execute_input": "2022-03-18T06:28:33.244959Z",
     "iopub.status.busy": "2022-03-18T06:28:33.244103Z",
     "iopub.status.idle": "2022-03-18T06:28:33.247902Z",
     "shell.execute_reply": "2022-03-18T06:28:33.247356Z",
     "shell.execute_reply.started": "2022-03-18T06:27:19.839425Z"
    },
    "papermill": {
     "duration": 0.035273,
     "end_time": "2022-03-18T06:28:33.248041",
     "exception": false,
     "start_time": "2022-03-18T06:28:33.212768",
     "status": "completed"
    },
    "tags": []
   },
   "outputs": [],
   "source": [
    "def split_awards(award):\n",
    "    if award:\n",
    "        return str(award).split(\"  \") # Splits by double spaces\n",
    "    return None\n",
    "\n",
    "awards['Awards Won'] = awards['Awards Won'].apply(split_awards)"
   ]
  },
  {
   "cell_type": "code",
   "execution_count": 5,
   "id": "51aa8cda",
   "metadata": {
    "execution": {
     "iopub.execute_input": "2022-03-18T06:28:33.304896Z",
     "iopub.status.busy": "2022-03-18T06:28:33.304195Z",
     "iopub.status.idle": "2022-03-18T07:11:16.120724Z",
     "shell.execute_reply": "2022-03-18T07:11:16.119993Z"
    },
    "papermill": {
     "duration": 2562.858441,
     "end_time": "2022-03-18T07:11:16.120917",
     "exception": false,
     "start_time": "2022-03-18T06:28:33.262476",
     "status": "completed"
    },
    "tags": []
   },
   "outputs": [
    {
     "name": "stderr",
     "output_type": "stream",
     "text": [
      "100%|██████████| 10828/10828 [42:42<00:00,  4.23it/s]\n"
     ]
    },
    {
     "data": {
      "text/html": [
       "<div>\n",
       "<style scoped>\n",
       "    .dataframe tbody tr th:only-of-type {\n",
       "        vertical-align: middle;\n",
       "    }\n",
       "\n",
       "    .dataframe tbody tr th {\n",
       "        vertical-align: top;\n",
       "    }\n",
       "\n",
       "    .dataframe thead th {\n",
       "        text-align: right;\n",
       "    }\n",
       "</style>\n",
       "<table border=\"1\" class=\"dataframe\">\n",
       "  <thead>\n",
       "    <tr style=\"text-align: right;\">\n",
       "      <th></th>\n",
       "      <th>title</th>\n",
       "      <th>category</th>\n",
       "      <th>year</th>\n",
       "      <th>schools</th>\n",
       "      <th>abstract</th>\n",
       "    </tr>\n",
       "  </thead>\n",
       "  <tbody>\n",
       "    <tr>\n",
       "      <th>0</th>\n",
       "      <td>Dynamic Response of a Human Neck Replica to Ax...</td>\n",
       "      <td>Energy: Physical</td>\n",
       "      <td>2014</td>\n",
       "      <td>{}</td>\n",
       "      <td>Purpose: A human neck replica was made to simu...</td>\n",
       "    </tr>\n",
       "    <tr>\n",
       "      <th>1</th>\n",
       "      <td>The Effect of Nutrient Solution Concentration ...</td>\n",
       "      <td>Physics and Astronomy</td>\n",
       "      <td>2014</td>\n",
       "      <td>{}</td>\n",
       "      <td>Studies comparing the mineral nutrition of hyd...</td>\n",
       "    </tr>\n",
       "    <tr>\n",
       "      <th>2</th>\n",
       "      <td>Do Air Root Pruning Pots Accelerate Success in...</td>\n",
       "      <td>Physics and Astronomy</td>\n",
       "      <td>2014</td>\n",
       "      <td>{}</td>\n",
       "      <td>The purpose of my project was to determine whi...</td>\n",
       "    </tr>\n",
       "    <tr>\n",
       "      <th>3</th>\n",
       "      <td>Insect-repelling Plants &amp; New Organic Pesticide</td>\n",
       "      <td>Environmental Engineering</td>\n",
       "      <td>2014</td>\n",
       "      <td>{}</td>\n",
       "      <td>Organochlorine pesticides in agriculture are n...</td>\n",
       "    </tr>\n",
       "    <tr>\n",
       "      <th>4</th>\n",
       "      <td>How Do Different Factors Affect the Accuracy o...</td>\n",
       "      <td>Earth and Environmental Sciences</td>\n",
       "      <td>2014</td>\n",
       "      <td>{}</td>\n",
       "      <td>The purpose of this experiment is to determine...</td>\n",
       "    </tr>\n",
       "  </tbody>\n",
       "</table>\n",
       "</div>"
      ],
      "text/plain": [
       "                                               title  \\\n",
       "0  Dynamic Response of a Human Neck Replica to Ax...   \n",
       "1  The Effect of Nutrient Solution Concentration ...   \n",
       "2  Do Air Root Pruning Pots Accelerate Success in...   \n",
       "3    Insect-repelling Plants & New Organic Pesticide   \n",
       "4  How Do Different Factors Affect the Accuracy o...   \n",
       "\n",
       "                           category  year schools  \\\n",
       "0                  Energy: Physical  2014      {}   \n",
       "1             Physics and Astronomy  2014      {}   \n",
       "2             Physics and Astronomy  2014      {}   \n",
       "3         Environmental Engineering  2014      {}   \n",
       "4  Earth and Environmental Sciences  2014      {}   \n",
       "\n",
       "                                            abstract  \n",
       "0  Purpose: A human neck replica was made to simu...  \n",
       "1  Studies comparing the mineral nutrition of hyd...  \n",
       "2  The purpose of my project was to determine whi...  \n",
       "3  Organochlorine pesticides in agriculture are n...  \n",
       "4  The purpose of this experiment is to determine...  "
      ]
     },
     "execution_count": 5,
     "metadata": {},
     "output_type": "execute_result"
    }
   ],
   "source": [
    "# Gets the abstract and additional project information from each page\n",
    "s = requests.session()\n",
    "\n",
    "def get_paper_data(id):\n",
    "    try:\n",
    "        root = \"https://abstracts.societyforscience.org/Home/FullAbstract?\"\n",
    "        response = s.get(root + id)\n",
    "\n",
    "        soup = BeautifulSoup(response.content, 'html.parser')\n",
    "\n",
    "        # Gets the div whose class is row\n",
    "        col = soup.find('div', attrs={'class': 'col-sm-12'})\n",
    "        elements = col.findChildren()\n",
    "\n",
    "        title = elements[0].text\n",
    "\n",
    "        category = elements[4].text.split(\"Category:\")[1]\n",
    "\n",
    "        year = int(elements[7].text.split(\"Year:\")[1])\n",
    "\n",
    "        finalists = elements[10].text.replace(\"  \", \"\").replace(\"\\n\", \"\")\n",
    "        schools = [x.split(\")\")[0] for x in finalists.split(\"(School: \")[1:]]\n",
    "        schools = set(schools) # Removes duplicates\n",
    "\n",
    "        abstract = elements[14].text.replace(\"Abstract:\", \"\")\n",
    "\n",
    "        return pd.Series({\n",
    "            'title': title,\n",
    "            'category': category,\n",
    "            'year': year,\n",
    "            'schools': schools,\n",
    "            'abstract': abstract\n",
    "        })\n",
    "    except:\n",
    "        return pd.Series({\n",
    "            'title': None,\n",
    "            'category': None,\n",
    "            'year': None,\n",
    "            'schools': None,\n",
    "            'abstract': None\n",
    "        })\n",
    "   \n",
    "database = ids.progress_apply(get_paper_data)\n",
    "\n",
    "database.dropna(subset=['title'], inplace=True)\n",
    "database.head()"
   ]
  },
  {
   "cell_type": "code",
   "execution_count": 6,
   "id": "169675cd",
   "metadata": {
    "execution": {
     "iopub.execute_input": "2022-03-18T07:11:24.099743Z",
     "iopub.status.busy": "2022-03-18T07:11:24.098971Z",
     "iopub.status.idle": "2022-03-18T07:11:24.129203Z",
     "shell.execute_reply": "2022-03-18T07:11:24.128687Z"
    },
    "papermill": {
     "duration": 4.063333,
     "end_time": "2022-03-18T07:11:24.129353",
     "exception": false,
     "start_time": "2022-03-18T07:11:20.066020",
     "status": "completed"
    },
    "tags": []
   },
   "outputs": [
    {
     "name": "stdout",
     "output_type": "stream",
     "text": [
      "Length Before:     10828\n",
      "Length After:      10858\n"
     ]
    },
    {
     "data": {
      "text/html": [
       "<div>\n",
       "<style scoped>\n",
       "    .dataframe tbody tr th:only-of-type {\n",
       "        vertical-align: middle;\n",
       "    }\n",
       "\n",
       "    .dataframe tbody tr th {\n",
       "        vertical-align: top;\n",
       "    }\n",
       "\n",
       "    .dataframe thead th {\n",
       "        text-align: right;\n",
       "    }\n",
       "</style>\n",
       "<table border=\"1\" class=\"dataframe\">\n",
       "  <thead>\n",
       "    <tr style=\"text-align: right;\">\n",
       "      <th></th>\n",
       "      <th>title</th>\n",
       "      <th>category</th>\n",
       "      <th>year</th>\n",
       "      <th>schools</th>\n",
       "      <th>abstract</th>\n",
       "      <th>Fair Country</th>\n",
       "      <th>Fair State</th>\n",
       "      <th>Fair Province</th>\n",
       "      <th>Awards Won</th>\n",
       "    </tr>\n",
       "  </thead>\n",
       "  <tbody>\n",
       "    <tr>\n",
       "      <th>0</th>\n",
       "      <td>Dynamic Response of a Human Neck Replica to Ax...</td>\n",
       "      <td>Energy: Physical</td>\n",
       "      <td>2014</td>\n",
       "      <td>{}</td>\n",
       "      <td>Purpose: A human neck replica was made to simu...</td>\n",
       "      <td>United States of America</td>\n",
       "      <td>MN</td>\n",
       "      <td>NaN</td>\n",
       "      <td>[nan]</td>\n",
       "    </tr>\n",
       "    <tr>\n",
       "      <th>1</th>\n",
       "      <td>The Effect of Nutrient Solution Concentration ...</td>\n",
       "      <td>Physics and Astronomy</td>\n",
       "      <td>2014</td>\n",
       "      <td>{}</td>\n",
       "      <td>Studies comparing the mineral nutrition of hyd...</td>\n",
       "      <td>United States of America</td>\n",
       "      <td>UT</td>\n",
       "      <td>NaN</td>\n",
       "      <td>[nan]</td>\n",
       "    </tr>\n",
       "    <tr>\n",
       "      <th>2</th>\n",
       "      <td>Do Air Root Pruning Pots Accelerate Success in...</td>\n",
       "      <td>Physics and Astronomy</td>\n",
       "      <td>2014</td>\n",
       "      <td>{}</td>\n",
       "      <td>The purpose of my project was to determine whi...</td>\n",
       "      <td>United States of America</td>\n",
       "      <td>LA</td>\n",
       "      <td>NaN</td>\n",
       "      <td>[nan]</td>\n",
       "    </tr>\n",
       "    <tr>\n",
       "      <th>3</th>\n",
       "      <td>Insect-repelling Plants &amp; New Organic Pesticide</td>\n",
       "      <td>Environmental Engineering</td>\n",
       "      <td>2014</td>\n",
       "      <td>{}</td>\n",
       "      <td>Organochlorine pesticides in agriculture are n...</td>\n",
       "      <td>United States of America</td>\n",
       "      <td>TX</td>\n",
       "      <td>NaN</td>\n",
       "      <td>[nan]</td>\n",
       "    </tr>\n",
       "    <tr>\n",
       "      <th>4</th>\n",
       "      <td>How Do Different Factors Affect the Accuracy o...</td>\n",
       "      <td>Earth and Environmental Sciences</td>\n",
       "      <td>2014</td>\n",
       "      <td>{}</td>\n",
       "      <td>The purpose of this experiment is to determine...</td>\n",
       "      <td>United States of America</td>\n",
       "      <td>MN</td>\n",
       "      <td>NaN</td>\n",
       "      <td>[nan]</td>\n",
       "    </tr>\n",
       "  </tbody>\n",
       "</table>\n",
       "</div>"
      ],
      "text/plain": [
       "                                               title  \\\n",
       "0  Dynamic Response of a Human Neck Replica to Ax...   \n",
       "1  The Effect of Nutrient Solution Concentration ...   \n",
       "2  Do Air Root Pruning Pots Accelerate Success in...   \n",
       "3    Insect-repelling Plants & New Organic Pesticide   \n",
       "4  How Do Different Factors Affect the Accuracy o...   \n",
       "\n",
       "                           category  year schools  \\\n",
       "0                  Energy: Physical  2014      {}   \n",
       "1             Physics and Astronomy  2014      {}   \n",
       "2             Physics and Astronomy  2014      {}   \n",
       "3         Environmental Engineering  2014      {}   \n",
       "4  Earth and Environmental Sciences  2014      {}   \n",
       "\n",
       "                                            abstract  \\\n",
       "0  Purpose: A human neck replica was made to simu...   \n",
       "1  Studies comparing the mineral nutrition of hyd...   \n",
       "2  The purpose of my project was to determine whi...   \n",
       "3  Organochlorine pesticides in agriculture are n...   \n",
       "4  The purpose of this experiment is to determine...   \n",
       "\n",
       "               Fair Country Fair State Fair Province Awards Won  \n",
       "0  United States of America         MN           NaN      [nan]  \n",
       "1  United States of America         UT           NaN      [nan]  \n",
       "2  United States of America         LA           NaN      [nan]  \n",
       "3  United States of America         TX           NaN      [nan]  \n",
       "4  United States of America         MN           NaN      [nan]  "
      ]
     },
     "execution_count": 6,
     "metadata": {},
     "output_type": "execute_result"
    }
   ],
   "source": [
    "print(f\"Length Before:{len(database.index):10d}\")\n",
    "database = database.join(awards.set_index('Project Title'), on='title')\n",
    "print(f\"Length After: {len(database.index):10d}\")\n",
    "database.head()"
   ]
  },
  {
   "cell_type": "code",
   "execution_count": 7,
   "id": "d19b0018",
   "metadata": {
    "execution": {
     "iopub.execute_input": "2022-03-18T07:11:32.251617Z",
     "iopub.status.busy": "2022-03-18T07:11:32.250898Z",
     "iopub.status.idle": "2022-03-18T07:11:32.253414Z",
     "shell.execute_reply": "2022-03-18T07:11:32.252779Z"
    },
    "papermill": {
     "duration": 4.038631,
     "end_time": "2022-03-18T07:11:32.253552",
     "exception": false,
     "start_time": "2022-03-18T07:11:28.214921",
     "status": "completed"
    },
    "tags": []
   },
   "outputs": [],
   "source": [
    "# Renames some columns\n",
    "database.rename(columns={\"Fair Country\": \"country\", \"Fair State\": \"State\", \"Fair Province\": \"Province\", \"Awards Won\":\"awards\"}, inplace=True)"
   ]
  },
  {
   "cell_type": "code",
   "execution_count": 8,
   "id": "dcab8d07",
   "metadata": {
    "execution": {
     "iopub.execute_input": "2022-03-18T07:11:40.143083Z",
     "iopub.status.busy": "2022-03-18T07:11:40.142144Z",
     "iopub.status.idle": "2022-03-18T07:11:40.840716Z",
     "shell.execute_reply": "2022-03-18T07:11:40.840094Z"
    },
    "papermill": {
     "duration": 4.663956,
     "end_time": "2022-03-18T07:11:40.840865",
     "exception": false,
     "start_time": "2022-03-18T07:11:36.176909",
     "status": "completed"
    },
    "tags": []
   },
   "outputs": [],
   "source": [
    "# Saves the file to CSV\n",
    "database.to_csv(\"isef-database.csv\", index=False)"
   ]
  }
 ],
 "metadata": {
  "kernelspec": {
   "display_name": "Python 3",
   "language": "python",
   "name": "python3"
  },
  "language_info": {
   "codemirror_mode": {
    "name": "ipython",
    "version": 3
   },
   "file_extension": ".py",
   "mimetype": "text/x-python",
   "name": "python",
   "nbconvert_exporter": "python",
   "pygments_lexer": "ipython3",
   "version": "3.7.12"
  },
  "papermill": {
   "default_parameters": {},
   "duration": 2615.629312,
   "end_time": "2022-03-18T07:11:45.572674",
   "environment_variables": {},
   "exception": null,
   "input_path": "__notebook__.ipynb",
   "output_path": "__notebook__.ipynb",
   "parameters": {},
   "start_time": "2022-03-18T06:28:09.943362",
   "version": "2.3.3"
  }
 },
 "nbformat": 4,
 "nbformat_minor": 5
}
